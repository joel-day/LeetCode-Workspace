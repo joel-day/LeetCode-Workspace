{
 "cells": [
  {
   "cell_type": "markdown",
   "id": "b0e2f2f2",
   "metadata": {},
   "source": [
    "# Add a flashcard uing python"
   ]
  },
  {
   "cell_type": "code",
   "execution_count": 1,
   "id": "8585a889",
   "metadata": {},
   "outputs": [],
   "source": [
    "from packages.flashcards.new_flashcard import add_qa_to_excel"
   ]
  },
  {
   "cell_type": "code",
   "execution_count": 2,
   "id": "37b2dd69",
   "metadata": {},
   "outputs": [],
   "source": [
    "question = \"New Test\"\n",
    "answer = \"Ambiguity\""
   ]
  },
  {
   "cell_type": "code",
   "execution_count": 3,
   "id": "94b13e63",
   "metadata": {},
   "outputs": [
    {
     "name": "stdout",
     "output_type": "stream",
     "text": [
      "Question and answer added successfully!\n"
     ]
    }
   ],
   "source": [
    "add_qa_to_excel(question, answer)"
   ]
  },
  {
   "cell_type": "code",
   "execution_count": null,
   "id": "c8285155",
   "metadata": {},
   "outputs": [],
   "source": []
  }
 ],
 "metadata": {
  "kernelspec": {
   "display_name": ".venv",
   "language": "python",
   "name": "python3"
  },
  "language_info": {
   "codemirror_mode": {
    "name": "ipython",
    "version": 3
   },
   "file_extension": ".py",
   "mimetype": "text/x-python",
   "name": "python",
   "nbconvert_exporter": "python",
   "pygments_lexer": "ipython3",
   "version": "3.12.9"
  }
 },
 "nbformat": 4,
 "nbformat_minor": 5
}
