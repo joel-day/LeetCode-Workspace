{
 "cells": [
  {
   "cell_type": "markdown",
   "metadata": {},
   "source": [
    "# Practice Interview Questions"
   ]
  },
  {
   "cell_type": "markdown",
   "metadata": {},
   "source": [
    "## 169. Majority Element"
   ]
  },
  {
   "cell_type": "code",
   "execution_count": 21,
   "metadata": {},
   "outputs": [],
   "source": [
    "def majorityElement(nums):\n",
    "\n",
    "        # candidate, count = None, 0\n",
    "\n",
    "        # First pass: Find candidate\n",
    "        for num in nums:\n",
    "            print(num)"
   ]
  },
  {
   "cell_type": "code",
   "execution_count": 22,
   "metadata": {},
   "outputs": [],
   "source": [
    "nums = [2,2,1,1,1,2,2]"
   ]
  },
  {
   "cell_type": "code",
   "execution_count": 23,
   "metadata": {},
   "outputs": [
    {
     "name": "stdout",
     "output_type": "stream",
     "text": [
      "2\n",
      "2\n",
      "1\n",
      "1\n",
      "1\n",
      "2\n",
      "2\n"
     ]
    }
   ],
   "source": [
    "majorityElement(nums)"
   ]
  },
  {
   "cell_type": "markdown",
   "metadata": {},
   "source": [
    "## 189. Rotate Array"
   ]
  },
  {
   "cell_type": "code",
   "execution_count": 68,
   "metadata": {},
   "outputs": [],
   "source": [
    "def rotate(nums, k):\n",
    "        \"\"\"\n",
    "        :type nums: List[int]\n",
    "        :type k: int\n",
    "        :rtype: None Do not return anything, modify nums in-place instead.\n",
    "        \"\"\"\n",
    "\n",
    "        n = len(nums)\n",
    "        k = k % n\n",
    "        if k == 0: return\n",
    "        \n",
    "        temp = nums[-k:]\n",
    "        nums[k:] = nums[:-k]\n",
    "        nums[:k] = temp"
   ]
  },
  {
   "cell_type": "code",
   "execution_count": 69,
   "metadata": {},
   "outputs": [],
   "source": [
    "nums = [2,2,1,1,1,2,3]\n",
    "k = 3"
   ]
  },
  {
   "cell_type": "code",
   "execution_count": 70,
   "metadata": {},
   "outputs": [],
   "source": [
    "rotate(nums, k)"
   ]
  },
  {
   "cell_type": "code",
   "execution_count": null,
   "metadata": {},
   "outputs": [],
   "source": []
  },
  {
   "cell_type": "markdown",
   "metadata": {},
   "source": [
    "## 55. Jump Game"
   ]
  },
  {
   "cell_type": "code",
   "execution_count": null,
   "metadata": {},
   "outputs": [],
   "source": [
    "def canJump(self, nums):\n",
    "    \"\"\"\n",
    "    :type nums: List[int]\n",
    "    :rtype: bool\n",
    "    \"\"\"\n",
    "    possibility = False\n",
    "    final_distance = len(nums) - 1\n",
    "\n",
    "    if final_distance < 1:\n",
    "        return True\n",
    "\n",
    "    if nums[0] == 0:\n",
    "        return False\n",
    "\n",
    "    max_distance = 0\n",
    "\n",
    "    for i in range(0,len(nums)-1):\n",
    "        distance = max(max_distance, nums[i])\n",
    "\n",
    "        if distance == 0:\n",
    "            return False\n",
    "\n",
    "        if distance >= final_distance:\n",
    "            return True\n",
    "\n",
    "        max_distance = distance - 1\n",
    "\n",
    "        final_distance -= 1"
   ]
  },
  {
   "cell_type": "code",
   "execution_count": null,
   "metadata": {},
   "outputs": [],
   "source": [
    "nums = [2,3,1,1,4]"
   ]
  },
  {
   "cell_type": "code",
   "execution_count": null,
   "metadata": {},
   "outputs": [],
   "source": []
  },
  {
   "cell_type": "markdown",
   "metadata": {},
   "source": [
    "## 122. Best Time to Buy and Sell Stock II"
   ]
  },
  {
   "cell_type": "code",
   "execution_count": 14,
   "metadata": {},
   "outputs": [],
   "source": [
    "def maxProfit(prices):\n",
    "    \"\"\"\n",
    "    :type prices: List[int]\n",
    "    :rtype: int\n",
    "    \"\"\"\n",
    "    holding_stock = 0\n",
    "    stock_value = 0 \n",
    "    profit = 0\n",
    "\n",
    "    for i in range(0, len(prices) - 1):\n",
    "        print(i, prices[i])\n",
    "\n",
    "       \n",
    "\n",
    "\n",
    "        if holding_stock == 0:\n",
    "\n",
    "            if prices[i] < prices[i+1]:\n",
    "\n",
    "                holding_stock = 1\n",
    "\n",
    "                stock_value = prices[i]\n",
    "\n",
    "        else:\n",
    "\n",
    "            \n",
    "            if prices[i+1]  < prices[i]:\n",
    "\n",
    "                profit += prices[i] - stock_value\n",
    "\n",
    "                stock_value = 0\n",
    "\n",
    "                holding_stock = 0\n",
    "\n",
    "\n",
    "        print(holding_stock, stock_value, profit)\n",
    "\n",
    "    if holding_stock == 1:\n",
    "\n",
    "        profit += prices[-1:] - stock_value\n",
    "\n",
    "        stock_value = 0\n",
    "\n",
    "        holding_stock = 0\n",
    "\n",
    "\n",
    "    return profit"
   ]
  },
  {
   "cell_type": "code",
   "execution_count": 15,
   "metadata": {},
   "outputs": [],
   "source": [
    "prices = [7,1,5,3,6,4]"
   ]
  },
  {
   "cell_type": "code",
   "execution_count": 16,
   "metadata": {},
   "outputs": [
    {
     "name": "stdout",
     "output_type": "stream",
     "text": [
      "0 7\n",
      "0 0 0\n",
      "1 1\n",
      "1 1 0\n",
      "2 5\n",
      "0 0 4\n",
      "3 3\n",
      "1 3 4\n",
      "4 6\n",
      "0 0 7\n"
     ]
    }
   ],
   "source": [
    "x = maxProfit(prices)"
   ]
  },
  {
   "cell_type": "code",
   "execution_count": 17,
   "metadata": {},
   "outputs": [
    {
     "data": {
      "text/plain": [
       "7"
      ]
     },
     "execution_count": 17,
     "metadata": {},
     "output_type": "execute_result"
    }
   ],
   "source": [
    "x"
   ]
  },
  {
   "cell_type": "code",
   "execution_count": 20,
   "metadata": {},
   "outputs": [
    {
     "data": {
      "text/plain": [
       "4"
      ]
     },
     "execution_count": 20,
     "metadata": {},
     "output_type": "execute_result"
    }
   ],
   "source": [
    "prices[-1]"
   ]
  },
  {
   "cell_type": "markdown",
   "metadata": {},
   "source": [
    "## 274. H-Index"
   ]
  },
  {
   "cell_type": "code",
   "execution_count": null,
   "metadata": {},
   "outputs": [],
   "source": [
    "def hIndex(citations):\n",
    "    h = 0\n",
    "    count = 0\n",
    "\n",
    "\n",
    "    for current_item in citations:\n",
    "\n",
    "\n",
    "        for item in citations:\n",
    "            print(item)\n",
    "            if item >= current_item:\n",
    "                count += 1\n",
    "        print(count, current_item)\n",
    "        if count >= current_item:\n",
    "            h = max(current_item, h)\n",
    "            print(h)\n",
    "\n",
    "        count = 0\n",
    "\n",
    "    return print('final ', h)"
   ]
  },
  {
   "cell_type": "code",
   "execution_count": 9,
   "metadata": {},
   "outputs": [
    {
     "name": "stdout",
     "output_type": "stream",
     "text": [
      "0\n",
      "1\n",
      "1 1\n",
      "1\n",
      "final  1\n"
     ]
    }
   ],
   "source": [
    "citations = [1]\n",
    "h = hIndex(citations)\n",
    "h\n"
   ]
  },
  {
   "cell_type": "code",
   "execution_count": null,
   "metadata": {},
   "outputs": [],
   "source": []
  },
  {
   "cell_type": "markdown",
   "metadata": {},
   "source": [
    "## 134. Gas Station"
   ]
  },
  {
   "cell_type": "code",
   "execution_count": null,
   "metadata": {},
   "outputs": [],
   "source": [
    "class Solution(object):\n",
    "    def canCompleteCircuit(self, gas, cost):\n",
    "        \"\"\"\n",
    "        :type gas: List[int]\n",
    "        :type cost: List[int]\n",
    "        :rt2ype: int\n",
    "        \"\"\"\n",
    "        current_index = 0\n",
    "\n",
    "        distance_list = [a - b for a, b in zip(gas, cost)]\n",
    "\n",
    "        while current_index < len(gas):\n",
    "\n",
    "            tank = 0\n",
    "\n",
    "            for i in range(0, len(gas)):\n",
    "                \n",
    "                tank += distance_list[i]\n",
    "\n",
    "                if tank < 0:\n",
    "                    break\n",
    "\n",
    "            if tank >= 0:\n",
    "                return current_index\n",
    "\n",
    "            distance_list_end =  distance_list[1:]\n",
    "            distance_list[-1:] = distance_list[:1]\n",
    "            distance_list[:-1] = distance_list_end\n",
    "\n",
    "\n",
    "            current_index += 1\n",
    "\n",
    "        return -1"
   ]
  },
  {
   "cell_type": "code",
   "execution_count": 46,
   "metadata": {},
   "outputs": [
    {
     "name": "stdout",
     "output_type": "stream",
     "text": [
      "[2, 3, 4]\n",
      "[3, 4, 3]\n",
      "-1\n",
      "[3, 4, 2]\n",
      "[4, 3, 3]\n",
      "-1\n",
      "[4, 2, 3]\n",
      "[3, 3, 4]\n",
      "1\n",
      "0\n",
      "-1\n",
      "[-1, -1, -1]\n"
     ]
    }
   ],
   "source": [
    "cost = [3,4,3]\n",
    "gas = [2,3,4]\n",
    "x = canCompleteCircuit(gas, cost)"
   ]
  },
  {
   "cell_type": "code",
   "execution_count": 47,
   "metadata": {},
   "outputs": [
    {
     "data": {
      "text/plain": [
       "-1"
      ]
     },
     "execution_count": 47,
     "metadata": {},
     "output_type": "execute_result"
    }
   ],
   "source": [
    "x"
   ]
  },
  {
   "cell_type": "code",
   "execution_count": null,
   "metadata": {},
   "outputs": [],
   "source": []
  },
  {
   "cell_type": "markdown",
   "metadata": {},
   "source": [
    "## 135. Candy"
   ]
  },
  {
   "cell_type": "code",
   "execution_count": null,
   "metadata": {},
   "outputs": [],
   "source": [
    "class Solution(object):\n",
    "    def candy(self, ratings):\n",
    "        \"\"\"\n",
    "        :type ratings: List[int]\n",
    "        :rtype: int\n",
    "        \"\"\"\n",
    "\n",
    "        output = [1] * len(ratings)\n",
    "\n",
    "\n",
    "        for i in range(0, len(ratings)):\n",
    "\n",
    "            if i == 0:\n",
    "                pass\n",
    "            else: \n",
    "                if ratings[i] > ratings[i-1]:\n",
    "                    output[i] = output[i-1] + 1\n",
    "\n",
    "\n",
    "\n",
    "            if i == len(ratings)-1:\n",
    "                pass\n",
    "            else: \n",
    "        \n",
    "\n",
    "                     \n",
    "                if ratings[i] > ratings[i+1]:\n",
    "                    output[i] = max(output[i], output[i+1] + 1)\n",
    "\n",
    "                    if ratings[i] < ratings[i-1]:\n",
    "                        output[i-1] = max(output[i-1], output[i]+1)\n",
    "        \n",
    "        x = 0\n",
    "\n",
    "        for xz in output:\n",
    "            x += xz\n",
    "\n",
    "        return x"
   ]
  },
  {
   "cell_type": "code",
   "execution_count": null,
   "metadata": {},
   "outputs": [],
   "source": []
  },
  {
   "cell_type": "markdown",
   "metadata": {},
   "source": [
    "## 42. Trapping Rain Water"
   ]
  },
  {
   "cell_type": "code",
   "execution_count": null,
   "metadata": {},
   "outputs": [],
   "source": [
    "def trap(self, height):\n",
    "    n = len(height)\n",
    "    \n",
    "    result = 0\n",
    "    maxI, waterBlock = 0,0\n",
    "    for i in range(1,n):\n",
    "        if height[i] >= height[maxI]:\n",
    "            result += waterBlock\n",
    "            waterBlock = 0\n",
    "            maxI = i\n",
    "        waterBlock += (height[maxI] - height[i])\n",
    "\n",
    "    end = maxI - 1\n",
    "    maxI, waterBlock = n-1,0\n",
    "    for i in range(n-2,end,-1):\n",
    "        if height[i] >= height[maxI]:\n",
    "            result += waterBlock\n",
    "            waterBlock = 0\n",
    "            maxI = i\n",
    "        waterBlock += (height[maxI] - height[i])\n",
    "\n",
    "    return result"
   ]
  },
  {
   "cell_type": "code",
   "execution_count": null,
   "metadata": {},
   "outputs": [],
   "source": []
  },
  {
   "cell_type": "markdown",
   "metadata": {},
   "source": [
    "## 54. Spiral Matrix"
   ]
  },
  {
   "cell_type": "code",
   "execution_count": 229,
   "metadata": {},
   "outputs": [],
   "source": [
    "def spiralOrder(matrix):\n",
    "        output_list = []\n",
    "        step = 1\n",
    "\n",
    "        while matrix and matrix[0]:\n",
    "\n",
    "            if step == 1:\n",
    "\n",
    "                for i in matrix[0]:\n",
    "                    output_list.append(i)\n",
    "\n",
    "                del(matrix[0])\n",
    "                step += 1\n",
    "                continue\n",
    "\n",
    "            if step == 2:\n",
    "\n",
    "                j = len(matrix[0]) -1\n",
    "\n",
    "                for i in range(0, len(matrix)):\n",
    "                    output_list.append(matrix[i][j])\n",
    "\n",
    "                    del(matrix[i][j])\n",
    "\n",
    "                step += 1\n",
    "                continue\n",
    "\n",
    "            if step == 3:\n",
    "\n",
    "                for i in matrix[-1][::-1]:\n",
    "                    output_list.append(i)\n",
    "\n",
    "                del(matrix[-1])\n",
    "                step += 1\n",
    "                continue\n",
    "\n",
    "            if step == 4:\n",
    "\n",
    "                for i in range(len(matrix) - 1, -1, -1):\n",
    "\n",
    "                    output_list.append(matrix[i][0])\n",
    "\n",
    "                    del(matrix[i][0])\n",
    "                step = 1\n",
    "                continue\n",
    "\n",
    "        return output_list"
   ]
  },
  {
   "cell_type": "code",
   "execution_count": 230,
   "metadata": {},
   "outputs": [],
   "source": [
    "matrix = [[1,2,3],[4,5,6],[7,8,9]]"
   ]
  },
  {
   "cell_type": "code",
   "execution_count": 231,
   "metadata": {},
   "outputs": [],
   "source": [
    "output_list = spiralOrder(matrix)"
   ]
  },
  {
   "cell_type": "code",
   "execution_count": 232,
   "metadata": {},
   "outputs": [
    {
     "data": {
      "text/plain": [
       "[1, 2, 3, 6, 9, 8, 7, 4, 5]"
      ]
     },
     "execution_count": 232,
     "metadata": {},
     "output_type": "execute_result"
    }
   ],
   "source": [
    "output_list"
   ]
  },
  {
   "cell_type": "markdown",
   "metadata": {},
   "source": [
    "## 48. Rotate Image"
   ]
  },
  {
   "cell_type": "code",
   "execution_count": 242,
   "metadata": {},
   "outputs": [],
   "source": [
    "def rotate(matrix):\n",
    "    \"\"\"\n",
    "    :type matrix: List[List[int]]\n",
    "    :rtype: None Do not return anything, modify matrix in-place instead.\n",
    "    \"\"\"\n",
    "\n",
    "    final_matrix = []\n",
    "\n",
    "    n = len(matrix)\n",
    "\n",
    "    for j in range(0, n):\n",
    "\n",
    "        row = []\n",
    "\n",
    "\n",
    "        for i in range(n-1, -1, -1):\n",
    "            x = matrix[i][j]\n",
    "            row.append(x)\n",
    "\n",
    "        final_matrix.append(row)\n",
    "\n",
    "    return final_matrix"
   ]
  },
  {
   "cell_type": "code",
   "execution_count": 243,
   "metadata": {},
   "outputs": [],
   "source": [
    "matrix = [[1,2,3],[4,5,6],[7,8,9]]"
   ]
  },
  {
   "cell_type": "code",
   "execution_count": 244,
   "metadata": {},
   "outputs": [
    {
     "data": {
      "text/plain": [
       "[[7, 4, 1], [8, 5, 2], [9, 6, 3]]"
      ]
     },
     "execution_count": 244,
     "metadata": {},
     "output_type": "execute_result"
    }
   ],
   "source": [
    "x = rotate(matrix)\n",
    "x"
   ]
  },
  {
   "cell_type": "code",
   "execution_count": null,
   "metadata": {},
   "outputs": [],
   "source": []
  }
 ],
 "metadata": {
  "kernelspec": {
   "display_name": "Python 3",
   "language": "python",
   "name": "python3"
  },
  "language_info": {
   "codemirror_mode": {
    "name": "ipython",
    "version": 3
   },
   "file_extension": ".py",
   "mimetype": "text/x-python",
   "name": "python",
   "nbconvert_exporter": "python",
   "pygments_lexer": "ipython3",
   "version": "3.12.4"
  }
 },
 "nbformat": 4,
 "nbformat_minor": 2
}
