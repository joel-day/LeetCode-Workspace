{
 "cells": [
  {
   "cell_type": "markdown",
   "id": "fe0ed065",
   "metadata": {},
   "source": [
    "# Daily Problems Workspace"
   ]
  },
  {
   "cell_type": "markdown",
   "id": "d313e583",
   "metadata": {},
   "source": [
    "## Execute previous solutions"
   ]
  },
  {
   "cell_type": "code",
   "execution_count": 14,
   "id": "5a7ea2ab",
   "metadata": {},
   "outputs": [],
   "source": [
    "#from packages.helpers.helpers import Solution"
   ]
  },
  {
   "cell_type": "markdown",
   "id": "6df9c46e",
   "metadata": {},
   "source": [
    "## Complexity Notes"
   ]
  },
  {
   "cell_type": "markdown",
   "id": "d804cc9d",
   "metadata": {},
   "source": [
    "### Time Complexity: How the execution time grows with the input size. The amount of time an algorithm takes to complete as a function of the input size. \n",
    "\n",
    "\n",
    "| Code                                      | Time Complexity  | Explanation                                         |\n",
    "|---------------------------------------    |------------------|-----------------------------------------------------|\n",
    "| `print(\"Hello\")`                          | `O(1)`           | Constant time                                       |\n",
    "| `for i in range(n):`                      | `O(n)`           | Loop runs n times                                   |\n",
    "| `for i in range(n): for j in range(n):`   | `O(n²)`          | Nested loop = n × n operations                     |\n",
    "| `for i in range(n): for j in range(m):`   | `O(n*m)`         | Nested loops with different inputs                 |\n",
    "| `binary search`                           | `O(log n)`       | Divides problem space in half each time            |\n",
    "| `merge sort`                              | `O(n log n)`     | Recursively divides and then merges                |"
   ]
  },
  {
   "cell_type": "markdown",
   "id": "d3df80a7",
   "metadata": {},
   "source": [
    "### Space Complexity: The memory usage relative to input size. Measures the total amount of memory or storage space an algorithm needs to complete.\n",
    "\n",
    "| Code                                 | Space Complexity | Explanation                              |\n",
    "|--------------------------------------|------------------|------------------------------------------|\n",
    "| Just a variable `x = 5`              | `O(1)`           | Constant space                           |\n",
    "| Array of size `n`: `arr = [0]*n`     | `O(n)`           | Space grows with input size              |\n",
    "| Recursive function with depth `n`    | `O(n)`           | Each recursive call adds to call stack   |"
   ]
  },
  {
   "cell_type": "markdown",
   "id": "5bd8c09b",
   "metadata": {},
   "source": [
    "### Fast \n",
    "append to list\n",
    "retrieve from dict\n",
    "hash Table, map (non-sequential) optimize for lookups\n",
    "\n",
    "### Slow\n",
    "insert into list at a given index\n",
    "\n",
    "### Strategy\n",
    "\n",
    "avoid O(n^2) - A simple cache can turn O(n^2) into O(n)"
   ]
  },
  {
   "cell_type": "markdown",
   "id": "0b772f33",
   "metadata": {},
   "source": [
    "## Outline"
   ]
  },
  {
   "cell_type": "markdown",
   "id": "b219dace",
   "metadata": {},
   "source": [
    "1) Figure out the solution in psuedocode or Python\n",
    "2) Convert that solution to Javascript\n",
    "3) Time/Space complexity w/ both solutions & date\n",
    "4) Make it a usable class in both python and java files\n",
    "5) Journal about what i learned. Most importaint takeaway. \n",
    "6) Create Flashcards"
   ]
  },
  {
   "cell_type": "markdown",
   "id": "1a39990a",
   "metadata": {},
   "source": []
  },
  {
   "cell_type": "markdown",
   "id": "55662c85",
   "metadata": {},
   "source": [
    "### ReadMe\n",
    "## 73. Set Matrix Zeroes\n",
    "### Input/Output\n",
    "```python\n",
    "# Input\n",
    "matrix = [[1, 1, 1], [1, 0, 1], [1, 1, 1]]\n",
    "\n",
    "# Output\n",
    "output = [[1, 0, 1], [0, 0, 0], [1, 0, 1]]\n",
    "```\n",
    "\n",
    "#### Intuition:\n",
    "The goal here is to zero out the values that share a row or a column with an existing zero. To do this first save the indexes of the rows and columns that contain a zero, then cancel those out. Make sure to zero out only after the indices for both rows and columns have been stored. \n",
    "\n",
    "#### Approach:\n",
    "- save the row numbers that contain zeros in a dict\n",
    "- save the columns with zeros in a dict\n",
    "- zero out all values in the rows and columns that contain a zero\n",
    "\n",
    "#### Code:\n",
    "```python\n",
    "class Solution:\n",
    "    def setZeroes(self, matrix: list[list[int]]) -> None:\n",
    "        \"\"\"\n",
    "        Do not return anything, modify matrix in-place instead.\n",
    "        \"\"\"\n",
    "        \n",
    "        # Get all the rows with a zero\n",
    "        rows_with_zero = {\n",
    "            i for i in range(len(matrix))\n",
    "            if any(matrix[i][j] == 0 for j in range(len(matrix[i])))\n",
    "        }\n",
    "\n",
    "        # Get all the columns with zero\n",
    "        cols_with_zero = {\n",
    "            j for j in range(len(matrix[0]))\n",
    "            if any(matrix[i][j] == 0 for i in range(len(matrix)))\n",
    "        }\n",
    "\n",
    "        # Zero out rows\n",
    "        for i in rows_with_zero:\n",
    "            matrix[i] = [0 for _ in matrix[i]]\n",
    "\n",
    "        # Zero out columns\n",
    "        for row in matrix:\n",
    "            for i in cols_with_zero:\n",
    "                row[i] = 0\n",
    "\n",
    "        return matrix\n",
    "```\n",
    "```javascript\n",
    "\n",
    "```"
   ]
  },
  {
   "cell_type": "markdown",
   "id": "b2d7e5e1",
   "metadata": {},
   "source": [
    "## Work"
   ]
  },
  {
   "cell_type": "code",
   "execution_count": null,
   "id": "9ac22bfd",
   "metadata": {},
   "outputs": [],
   "source": [
    "class Solution:\n",
    "    def setZeroes(self, matrix: list[list[int]]) -> None:\n",
    "        \"\"\"\n",
    "        Do not return anything, modify matrix in-place instead.\n",
    "        \"\"\"\n",
    "        \n",
    "        # Get all the rows with a zero\n",
    "        rows_with_zero = {\n",
    "            i for i in range(len(matrix))\n",
    "            if any(matrix[i][j] == 0 for j in range(len(matrix[i])))\n",
    "        }\n",
    "\n",
    "        # Get all the columns with zero\n",
    "        cols_with_zero = {\n",
    "            j for j in range(len(matrix[0]))\n",
    "            if any(matrix[i][j] == 0 for i in range(len(matrix)))\n",
    "        }\n",
    "\n",
    "        # Zero out rows\n",
    "        for i in rows_with_zero:\n",
    "            matrix[i] = [0 for _ in matrix[i]]\n",
    "\n",
    "        # Zero out columns\n",
    "        for row in matrix:\n",
    "            for i in cols_with_zero:\n",
    "                row[i] = 0\n",
    "\n",
    "        return matrix\n",
    "\n",
    "        \n",
    "\n",
    "            "
   ]
  },
  {
   "cell_type": "code",
   "execution_count": 64,
   "id": "ffdf6a0b",
   "metadata": {},
   "outputs": [],
   "source": [
    "matrix = [[1,1,1],[1,0,1],[1,1,1]]"
   ]
  },
  {
   "cell_type": "code",
   "execution_count": 65,
   "id": "2bc06d9d",
   "metadata": {},
   "outputs": [
    {
     "data": {
      "text/plain": [
       "[[1, 0, 1], [0, 0, 0], [1, 0, 1]]"
      ]
     },
     "execution_count": 65,
     "metadata": {},
     "output_type": "execute_result"
    }
   ],
   "source": [
    "Solution.setZeroes(object, matrix)"
   ]
  },
  {
   "cell_type": "code",
   "execution_count": null,
   "id": "31b2ad54",
   "metadata": {},
   "outputs": [],
   "source": []
  }
 ],
 "metadata": {
  "kernelspec": {
   "display_name": ".venv",
   "language": "python",
   "name": "python3"
  },
  "language_info": {
   "codemirror_mode": {
    "name": "ipython",
    "version": 3
   },
   "file_extension": ".py",
   "mimetype": "text/x-python",
   "name": "python",
   "nbconvert_exporter": "python",
   "pygments_lexer": "ipython3",
   "version": "3.12.9"
  }
 },
 "nbformat": 4,
 "nbformat_minor": 5
}
