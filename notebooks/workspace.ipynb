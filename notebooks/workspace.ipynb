{
 "cells": [
  {
   "cell_type": "markdown",
   "id": "fe0ed065",
   "metadata": {},
   "source": [
    "# Daily Problems Workspace"
   ]
  },
  {
   "cell_type": "markdown",
   "id": "d313e583",
   "metadata": {},
   "source": [
    "## Execute other python solutions"
   ]
  },
  {
   "cell_type": "code",
   "execution_count": null,
   "id": "5a7ea2ab",
   "metadata": {},
   "outputs": [],
   "source": [
    "from packages.helpers.helpers import Solution"
   ]
  },
  {
   "cell_type": "markdown",
   "id": "6df9c46e",
   "metadata": {},
   "source": [
    "## Complexity Notes"
   ]
  },
  {
   "cell_type": "markdown",
   "id": "d804cc9d",
   "metadata": {},
   "source": [
    "### Time Complexity: How the execution time grows with the input size. The amount of time an algorithm takes to complete as a function of the input size. \n",
    "\n",
    "\n",
    "| Code                                      | Time Complexity  | Explanation                                         |\n",
    "|---------------------------------------    |------------------|-----------------------------------------------------|\n",
    "| `print(\"Hello\")`                          | `O(1)`           | Constant time                                       |\n",
    "| `for i in range(n):`                      | `O(n)`           | Loop runs n times                                   |\n",
    "| `for i in range(n): for j in range(n):`   | `O(n²)`          | Nested loop = n × n operations                     |\n",
    "| `for i in range(n): for j in range(m):`   | `O(n*m)`         | Nested loops with different inputs                 |\n",
    "| `binary search`                           | `O(log n)`       | Divides problem space in half each time            |\n",
    "| `merge sort`                              | `O(n log n)`     | Recursively divides and then merges                |"
   ]
  },
  {
   "cell_type": "markdown",
   "id": "d3df80a7",
   "metadata": {},
   "source": [
    "### Space Complexity: The memory usage relative to input size. Measures the total amount of memory or storage space an algorithm needs to complete.\n",
    "\n",
    "| Code                                 | Space Complexity | Explanation                              |\n",
    "|--------------------------------------|------------------|------------------------------------------|\n",
    "| Just a variable `x = 5`              | `O(1)`           | Constant space                           |\n",
    "| Array of size `n`: `arr = [0]*n`     | `O(n)`           | Space grows with input size              |\n",
    "| Recursive function with depth `n`    | `O(n)`           | Each recursive call adds to call stack   |"
   ]
  },
  {
   "cell_type": "markdown",
   "id": "5bd8c09b",
   "metadata": {},
   "source": [
    "### knowing that lists are fast to append to, slow to insert at a given index; dicts are fast to retrieve from\n",
    "### knowing where a simple cache can turn an exponential-time procedure into a linear-time one\n",
    "### avoid O(n^2) functions in certain spots of your code\n",
    "### I think the most important thing to know are hashtables. when to use a hash over an array\n",
    "### caching and using threads to do things in parallel.\n",
    "### on pretty much every major feature there will be a few instances where the naive implementation is n-squared or worse and I have to decide whether to write a faster algorithm, prove that n is sufficiently small that it doesn't matter, or come up with some other mitigation strategy.\n",
    "### hashed data store to optimize for lookups - lists to optimize for iterating over the entire set."
   ]
  },
  {
   "cell_type": "markdown",
   "id": "0b772f33",
   "metadata": {},
   "source": [
    "## Outline"
   ]
  },
  {
   "cell_type": "markdown",
   "id": "b219dace",
   "metadata": {},
   "source": [
    "1) Figure out the solution in psuedocode or Python\n",
    "2) Convert that solution to Javascript\n",
    "3) Time/Space complexity w/ both solutions & date\n",
    "4) Make it a usable class in both python and java files\n",
    "5) Journal about what i learned. Most importaint takeaway. \n",
    "6) Create Flashcards"
   ]
  },
  {
   "cell_type": "markdown",
   "id": "d8f638cc",
   "metadata": {},
   "source": [
    "### Time Complexity: ( O(n) ) — Depends on the number size.\n",
    "### Space Complexity: ( O(n) ) — Output grows linearly with digit size.\n",
    "### Notes:"
   ]
  },
  {
   "cell_type": "markdown",
   "id": "b2d7e5e1",
   "metadata": {},
   "source": [
    "## Work"
   ]
  },
  {
   "cell_type": "code",
   "execution_count": null,
   "id": "f5171e8b",
   "metadata": {},
   "outputs": [],
   "source": []
  }
 ],
 "metadata": {
  "kernelspec": {
   "display_name": ".venv",
   "language": "python",
   "name": "python3"
  },
  "language_info": {
   "codemirror_mode": {
    "name": "ipython",
    "version": 3
   },
   "file_extension": ".py",
   "mimetype": "text/x-python",
   "name": "python",
   "nbconvert_exporter": "python",
   "pygments_lexer": "ipython3",
   "version": "3.12.9"
  }
 },
 "nbformat": 4,
 "nbformat_minor": 5
}
