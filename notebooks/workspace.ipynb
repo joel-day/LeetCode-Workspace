{
 "cells": [
  {
   "cell_type": "markdown",
   "id": "fe0ed065",
   "metadata": {},
   "source": [
    "# Daily Problems Workspace"
   ]
  },
  {
   "cell_type": "markdown",
   "id": "b219dace",
   "metadata": {},
   "source": [
    "1) Figure out the solution in psuedocode or Python\n",
    "2) Convert that solution to Javascript\n",
    "3) Repo: Make it a usable class in both python and java files\n",
    "4) README: Time/Space complexity w/ both solutions & date\n",
    "5) README: Journal about what i learned. Most importaint takeaway. Create Flashcards"
   ]
  },
  {
   "cell_type": "markdown",
   "id": "c0d8f672",
   "metadata": {},
   "source": [
    "# Time Complexity: how the runtime of an algorithm grows as the size of the input increases.\n",
    "\n",
    "\n",
    "| Code                                      | Time Complexity  | Explanation                                         |\n",
    "|---------------------------------------    |------------------|-----------------------------------------------------|\n",
    "| `print(\"Hello\")`                          | `O(1)`           | Constant time                                       |\n",
    "| `for i in range(n):`                      | `O(n)`           | Loop runs n times                                   |\n",
    "| `for i in range(n): for j in range(n):`   | `O(n²)`          | Nested loop = n × n operations                     |\n",
    "| `for i in range(n): for j in range(m):`   | `O(n*m)`         | Nested loops with different inputs                 |\n",
    "| `binary search`                           | `O(log n)`       | Divides problem space in half each time            |\n",
    "| `merge sort`                              | `O(n log n)`     | Recursively divides and then merges                |"
   ]
  },
  {
   "cell_type": "markdown",
   "id": "e8f57fed",
   "metadata": {},
   "source": [
    "# Space Complexity: how much extra memory your algorithm uses relative to input size.\n",
    "\n",
    "| Code                                 | Space Complexity | Explanation                              |\n",
    "|--------------------------------------|------------------|------------------------------------------|\n",
    "| Just a variable `x = 5`              | `O(1)`           | Constant space                           |\n",
    "| Array of size `n`: `arr = [0]*n`     | `O(n)`           | Space grows with input size              |\n",
    "| Recursive function with depth `n`    | `O(n)`           | Each recursive call adds to call stack   |\n"
   ]
  },
  {
   "cell_type": "markdown",
   "id": "d8f638cc",
   "metadata": {},
   "source": [
    " - Time Complexity: ( O(n) ) — Depends on the number size.\n",
    " - Space Complexity: ( O(1) ) — Output grows linearly with digit size."
   ]
  },
  {
   "cell_type": "markdown",
   "id": "fffe602e",
   "metadata": {},
   "source": [
    "### Notes:\n",
    "\n",
    "##### Dictionary iteration order is not guaranteed. When the order is importaint, use a list > dict."
   ]
  },
  {
   "cell_type": "code",
   "execution_count": null,
   "id": "f5171e8b",
   "metadata": {},
   "outputs": [],
   "source": []
  }
 ],
 "metadata": {
  "kernelspec": {
   "display_name": ".venv",
   "language": "python",
   "name": "python3"
  },
  "language_info": {
   "codemirror_mode": {
    "name": "ipython",
    "version": 3
   },
   "file_extension": ".py",
   "mimetype": "text/x-python",
   "name": "python",
   "nbconvert_exporter": "python",
   "pygments_lexer": "ipython3",
   "version": "3.12.9"
  }
 },
 "nbformat": 4,
 "nbformat_minor": 5
}
